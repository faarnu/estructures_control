{
 "cells": [
  {
   "cell_type": "markdown",
   "id": "62e6ad3c",
   "metadata": {},
   "source": [
    "# S02T03: Estructura de control\n"
   ]
  },
  {
   "cell_type": "markdown",
   "id": "04541a2a",
   "metadata": {},
   "source": [
    "### - Exercici 1\n",
    "L'exercici consisteix a crear un programa que et classifiqui una variable numèrica en funció de l’escala Suspès/Aprovat/Notable/Excel·lent."
   ]
  },
  {
   "cell_type": "code",
   "execution_count": 9,
   "id": "3c0f422f",
   "metadata": {},
   "outputs": [
    {
     "name": "stdout",
     "output_type": "stream",
     "text": [
      "Introdueix la nota de 0 al 10\n",
      "0\n",
      "Suspès\n"
     ]
    }
   ],
   "source": [
    "print(\"Introdueix la nota de 0 al 10\")\n",
    "\n",
    "nota=int(input())\n",
    "if nota <0:\n",
    "    print(\"Fuera de rango. Debe ser entre el 0 y 10\")\n",
    "elif nota <5:\n",
    "    print(\"Suspès\")\n",
    "elif nota <7:\n",
    "    print(\"Aprovat\")\n",
    "elif nota <9:\n",
    "    print(\"Notable\")\n",
    "elif nota <11:\n",
    "    print(\"Excel·lent\")    \n",
    "else:\n",
    "    print(\"Fuera de rango. Debe ser entre el 0 y 10\")"
   ]
  },
  {
   "cell_type": "markdown",
   "id": "f0bfafd6",
   "metadata": {},
   "source": [
    "### - Exercici 2\n",
    "Utilitzant el següent tutorial Programiz: Python Input, Output and Import crea un programa que et pregunti dos números. T’ha de mostrar un missatge dient si el primer és més gran, el segon és més gran o són iguals."
   ]
  },
  {
   "cell_type": "code",
   "execution_count": 18,
   "id": "e0e73be0",
   "metadata": {},
   "outputs": [
    {
     "name": "stdout",
     "output_type": "stream",
     "text": [
      "Escriu un número: 4\n",
      "Escriu un altre número: 6\n",
      "\n",
      "El 6 és major que el  4\n"
     ]
    }
   ],
   "source": [
    "num1 = input(\"Escriu un número: \")\n",
    "num2 = input(\"Escriu un altre número: \")\n",
    "\n",
    "num1 = int(num1)\n",
    "num2 = int(num2)\n",
    "\n",
    "print()\n",
    "if num1 > num2:\n",
    "    print(\"El\", num1, \" és major que el \", num2)\n",
    "elif num1 < num2:\n",
    "    print(\"El\", num2, \"és major que el \", num1)\n",
    "else:\n",
    "    print(\"Tots dos són iguals\",\":\", num1)\n",
    "    \n",
    "    \n",
    "    \n",
    "    "
   ]
  },
  {
   "cell_type": "markdown",
   "id": "2b353f58",
   "metadata": {},
   "source": [
    "### - Exercici 3\n",
    "Crea un programa que et pregunti el teu nom, i et demani un número. Si el número és 0, hauria de mostrar un missatge d’error. En cas contrari, hauria de mostrar el nom repetit tants cops com indiqui el número. Per exemple, “Joan Joan Joan”."
   ]
  },
  {
   "cell_type": "code",
   "execution_count": 31,
   "id": "6523de6b",
   "metadata": {},
   "outputs": [
    {
     "name": "stdout",
     "output_type": "stream",
     "text": [
      "Quin és el teu nom?: Fabiola\n",
      "Escriu un número: 3\n",
      "Fabiola\n",
      "Fabiola\n",
      "Fabiola\n"
     ]
    }
   ],
   "source": [
    "nom = input(\"Quin és el teu nom?: \")\n",
    "numRep=input(\"Escriu un número: \")\n",
    "numRep=int(numRep)\n",
    "\n",
    "\n",
    "if numRep > 0:\n",
    "    for i in range(numRep):\n",
    "        print(nom)\n",
    "\n",
    "else:\n",
    "    print(\"Error el número ha de ser superior a 0\")\n"
   ]
  },
  {
   "cell_type": "markdown",
   "id": "9f0fb804",
   "metadata": {},
   "source": [
    "### - Exercici 4\n",
    "Crea un programa que donada una llista qualsevol, et digui si es simètrica o no. Si ho és, que et digui quants elements té."
   ]
  },
  {
   "cell_type": "code",
   "execution_count": 59,
   "id": "9ce4ed2d",
   "metadata": {},
   "outputs": [
    {
     "name": "stdout",
     "output_type": "stream",
     "text": [
      "la llista és simetrica\n",
      "La llista té 6 elemets\n"
     ]
    }
   ],
   "source": [
    "llista4 =[1,2,3,3,2,1]\n",
    "\n",
    "numElments=len(llista4)\n",
    "resultat=0\n",
    "\n",
    "if numElments%2:\n",
    "    meitat=numElments//2+1\n",
    "else:\n",
    "    meitat=numElments//2\n",
    "\n",
    "inicioLlista=0\n",
    "finLlista=numElments-1\n",
    "\n",
    "while (inicioLlista<meitat and finLlista< numElments):\n",
    "    \n",
    "    if(llista4[inicioLlista]==llista4[finLlista]):\n",
    "        inicioLlista=inicioLlista+1\n",
    "        finLlista=finLlista-1\n",
    "            \n",
    "    else:\n",
    "        resultat=1\n",
    "        break\n",
    "\n",
    "if resultat ==0:\n",
    "    print(\"la llista és simetrica\")\n",
    "else:\n",
    "    print(\"la llista no és simétrica\")\n",
    "    \n",
    "    llista4.count()\n",
    "\n",
    "print(\"La llista té\", numElments,\"elemets\"  )\n"
   ]
  },
  {
   "cell_type": "markdown",
   "id": "ea32955d",
   "metadata": {},
   "source": [
    "### - Exercici 5\n",
    "Crea un programa que donada una llista, et digui quants números coincideixen amb la seva posició. Per exemple [3,4,2,0,2,3,6] el 2 i el 6 coincideixen."
   ]
  },
  {
   "cell_type": "code",
   "execution_count": 102,
   "id": "030cf367",
   "metadata": {},
   "outputs": [
    {
     "name": "stdout",
     "output_type": "stream",
     "text": [
      "7\n",
      "0\n",
      "3\n",
      "El número 2  coicideix amb la posició\n",
      "El número 2  coicideix amb la posició\n",
      "El número 6  coicideix amb la posició\n"
     ]
    }
   ],
   "source": [
    "llista5 = [3,4,2,0,2,3,6]\n",
    "n=len(llista5)\n",
    "i=0\n",
    "\n",
    "#print(n)\n",
    "#print(i)\n",
    "#print(llista5[i])\n",
    "\n",
    "\n",
    "for i in llista5:\n",
    "    if(llista5[i]==i):\n",
    "        print(\"El número\", llista5[i], \" coicideix amb la posició\")\n",
    "        i+=1"
   ]
  },
  {
   "cell_type": "code",
   "execution_count": null,
   "id": "10b9fa56",
   "metadata": {},
   "outputs": [],
   "source": []
  }
 ],
 "metadata": {
  "kernelspec": {
   "display_name": "Python 3 (ipykernel)",
   "language": "python",
   "name": "python3"
  },
  "language_info": {
   "codemirror_mode": {
    "name": "ipython",
    "version": 3
   },
   "file_extension": ".py",
   "mimetype": "text/x-python",
   "name": "python",
   "nbconvert_exporter": "python",
   "pygments_lexer": "ipython3",
   "version": "3.9.7"
  }
 },
 "nbformat": 4,
 "nbformat_minor": 5
}
